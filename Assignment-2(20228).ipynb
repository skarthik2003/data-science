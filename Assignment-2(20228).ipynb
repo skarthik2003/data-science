{
  "nbformat": 4,
  "nbformat_minor": 0,
  "metadata": {
    "colab": {
      "provenance": []
    },
    "kernelspec": {
      "name": "python3",
      "display_name": "Python 3"
    },
    "language_info": {
      "name": "python"
    }
  },
  "cells": [
    {
      "cell_type": "code",
      "execution_count": null,
      "metadata": {
        "id": "GrTYqs492AM5"
      },
      "outputs": [],
      "source": [
        "import pandas as pd\n",
        "DataFrame=pd.read_csv('https://raw.githubusercontent.com//flaviovdf//evcomp2018//master//data//educ_inc.csv')\n",
        "DataFrame\n"
      ]
    },
    {
      "cell_type": "code",
      "source": [
        "import pandas as pd\n",
        "from pathlib import Path\n",
        "df=pd.read_csv('https://raw.githubusercontent.com//flaviovdf//evcomp2018//master//data//nc-est2015-agesex-res.csv')\n",
        "k=df.size\n",
        "k\n"
      ],
      "metadata": {
        "id": "8uFh_sto2OZY"
      },
      "execution_count": null,
      "outputs": []
    },
    {
      "cell_type": "code",
      "source": [
        "import pandas as pd\n",
        "DataFrame=pd.read_csv('https://raw.githubusercontent.com//flaviovdf//evcomp2018//master//data//educ_inc.csv')\n",
        "print(DataFrame.describe())\n"
      ],
      "metadata": {
        "id": "3jKkfijr2OWG"
      },
      "execution_count": null,
      "outputs": []
    },
    {
      "cell_type": "code",
      "source": [
        "import pandas as pd\n",
        "df=pd.read_csv('https://raw.githubusercontent.com//flaviovdf//evcomp2018//master//data//educ_inc.csv')\n",
        "x=pd.DataFrame(df)\n",
        "x['Year']= x['Year'].str.replace('1/1/08','1/1/2010')\n",
        "x['Year']= x['Year'].str.replace('1/1/14','1/1/2014')\n",
        "x\n"
      ],
      "metadata": {
        "id": "iUXrKnFl2OTT"
      },
      "execution_count": null,
      "outputs": []
    },
    {
      "cell_type": "code",
      "source": [
        "import pandas as pd\n",
        "DataFrame=pd.read_csv('https://raw.githubusercontent.com//flaviovdf//evcomp2018//master//data//educ_inc.csv')\n",
        "rows= DataFrame.head(10)\n",
        "rows\n"
      ],
      "metadata": {
        "id": "a_dYx0ZR2OQw"
      },
      "execution_count": null,
      "outputs": []
    },
    {
      "cell_type": "code",
      "source": [
        "import pandas as pd\n",
        "df=pd.read_csv('https://raw.githubusercontent.com//flaviovdf//evcomp2018//master//data//educ_inc.csv')\n",
        "df.loc[[14,21],:]\n"
      ],
      "metadata": {
        "id": "_sXq9tVq2OOp"
      },
      "execution_count": null,
      "outputs": []
    },
    {
      "cell_type": "code",
      "source": [
        "import pandas as pd\n",
        "df=pd.read_csv('https://raw.githubusercontent.com//flaviovdf//evcomp2018//master//data//educ_inc.csv')\n",
        "df[\"Change\"]= \"\"\n",
        "df[\"Percentage Change\"]=\"\"\n",
        "df.to_csv('https://raw.githubusercontent.com//flaviovdf//evcomp2018//master//data//educ_inc.csv', index=False)\n",
        "x=pd.DataFrame(df)\n",
        "x\n"
      ],
      "metadata": {
        "id": "cvAQldwN2OMQ"
      },
      "execution_count": null,
      "outputs": []
    },
    {
      "cell_type": "code",
      "source": [
        "new_df= df[df['AGE'] == 0]\n",
        "new_df\n"
      ],
      "metadata": {
        "id": "gTZMhblm2OJs"
      },
      "execution_count": null,
      "outputs": []
    },
    {
      "cell_type": "code",
      "source": [
        "import pandas as pd\n",
        "df=pd.read_csv('https://raw.githubusercontent.com//flaviovdf//evcomp2018//master//data//nba_salaries.csv')\n",
        "x=pd.DataFrame(df)\n",
        "x\n"
      ],
      "metadata": {
        "id": "qv8mo0pt2OHG"
      },
      "execution_count": null,
      "outputs": []
    },
    {
      "cell_type": "code",
      "source": [
        "from pathlib import Path\n",
        "sz= Path('C:\\\\Users\\\\jubic\\\\OneDrive\\\\Desktop\\\\Assign\\\\demo1.txt').stat().st_size\n",
        "print(sz)\n"
      ],
      "metadata": {
        "id": "PY1mrsA72OFA"
      },
      "execution_count": null,
      "outputs": []
    },
    {
      "cell_type": "code",
      "source": [
        "import pandas as pd\n",
        "df=pd.read_csv('https://raw.githubusercontent.com//flaviovdf//evcomp2018//master//data//nba_salaries.csv')\n",
        "df.sort_values(\"PLAYER\", axis=0, ascending=True,inplace=True, na_position='first')\n",
        "df\n"
      ],
      "metadata": {
        "id": "nWF1qU0Y2OCv"
      },
      "execution_count": null,
      "outputs": []
    },
    {
      "cell_type": "code",
      "source": [
        "\n",
        "import pandas as pd\n",
        "df=pd.read_csv('https://raw.githubusercontent.com//flaviovdf//evcomp2018//master//data//nba_salaries.csv')\n",
        "df.sort_values(\"SALARY\", axis=0, ascending=True,inplace=True, na_position='first')\n",
        "df\n"
      ],
      "metadata": {
        "id": "ncd1e7Ac2OAY"
      },
      "execution_count": null,
      "outputs": []
    },
    {
      "cell_type": "code",
      "source": [
        "df.sort_values(\"SALARY\", axis=0, ascending=False,inplace=True, na_position='first')\n",
        "df\n"
      ],
      "metadata": {
        "id": "MuyV7nLY2N9L"
      },
      "execution_count": null,
      "outputs": []
    },
    {
      "cell_type": "code",
      "source": [
        "import pandas as pd\n",
        "df=pd.read_csv('https://raw.githubusercontent.com//flaviovdf//evcomp2018//master//data//nba_salaries.csv')\n",
        "renamed_df= df.rename(columns={'SALARY':'\"SALARY:'})\n",
        "renamed_df.to_csv('https://raw.githubusercontent.com//flaviovdf//evcomp2018//master//data//nba_salaries.csv', index=None)\n",
        "renamed_df\n"
      ],
      "metadata": {
        "id": "ncS2IlOr2N60"
      },
      "execution_count": null,
      "outputs": []
    },
    {
      "cell_type": "code",
      "source": [
        "import pandas as pd\n",
        "df=pd.read_csv('https://raw.githubusercontent.com//flaviovdf//evcomp2018//master//data//nba_salaries.csv')\n",
        "renamed_df= df.rename(columns={'SALARY':'\"SALARY:'})\n",
        "renamed_df.to_csv('https://raw.githubusercontent.com//flaviovdf//evcomp2018//master//data//nba_salaries.csv', index=None)\n",
        "rows= renamed_df.head(5)\n",
        "rows\n"
      ],
      "metadata": {
        "id": "g1SnKTJF2N3l"
      },
      "execution_count": null,
      "outputs": []
    },
    {
      "cell_type": "code",
      "source": [
        ")   import pandas as pd\n",
        "df=pd.read_csv('https://raw.githubusercontent.com//flaviovdf//evcomp2018//master//data//nba_salaries.csv')\n",
        "df.loc[[2,9,21],:]\n"
      ],
      "metadata": {
        "id": "9vSmRJkI2N1k"
      },
      "execution_count": null,
      "outputs": []
    },
    {
      "cell_type": "code",
      "source": [
        "import pandas as pd\n",
        "df=pd.read_csv('https://raw.githubusercontent.com//flaviovdf//evcomp2018//master//data//nba_salaries.csv')\n",
        "df.nlargest(5,['SALARY'])\n"
      ],
      "metadata": {
        "id": "BlcX3dZF2Nzz"
      },
      "execution_count": null,
      "outputs": []
    },
    {
      "cell_type": "code",
      "source": [
        "(i)   import pandas as pd\n",
        "df=pd.read_csv('https://raw.githubusercontent.com//flaviovdf//evcomp2018//master//data//nba_salaries.csv')\n",
        "df[df.SALARY > 10]\n"
      ],
      "metadata": {
        "id": "yfi4x_pB2NyQ"
      },
      "execution_count": null,
      "outputs": []
    },
    {
      "cell_type": "code",
      "source": [
        ")   import pandas as pd\n",
        "df=pd.read_csv('https://raw.githubusercontent.com//flaviovdf//evcomp2018//master//data//nba_salaries.csv')\n",
        "df[df.PLAYER == 'Stephen Curry']\n",
        "k=df[df.PLAYER == 'Stephen Curry']\n",
        "k.SALARY\n"
      ],
      "metadata": {
        "id": "Fv90Jwls2NwN"
      },
      "execution_count": null,
      "outputs": []
    },
    {
      "cell_type": "code",
      "source": [
        "import pandas as pd\n",
        "df=pd.read_csv('https://raw.githubusercontent.com//flaviovdf//evcomp2018//master//data//nba_salaries.csv')\n",
        "k=df[df.POSITION == 'PG']\n",
        "k[k.SALARY >15]\n"
      ],
      "metadata": {
        "id": "3NROIX1f2Nt-"
      },
      "execution_count": null,
      "outputs": []
    },
    {
      "cell_type": "code",
      "source": [
        "import pandas as pd\n",
        "df=pd.read_csv('https://raw.githubusercontent.com//flaviovdf//evcomp2018//master//data//nba_salaries.csv')\n",
        "df[df.TEAM == 'Golden State Warriors']\n"
      ],
      "metadata": {
        "id": "xhKAMPEm2Nrb"
      },
      "execution_count": null,
      "outputs": []
    },
    {
      "cell_type": "code",
      "source": [
        "import pandas as pd\n",
        "df=pd.read_csv('https://raw.githubusercontent.com//flaviovdf//evcomp2018//master//data//nba_salaries.csv')\n",
        "df.groupby('TEAM').sum()\n"
      ],
      "metadata": {
        "id": "4oJGNtaB2NlT"
      },
      "execution_count": null,
      "outputs": []
    },
    {
      "cell_type": "code",
      "source": [
        "import pandas as pd\n",
        "df=pd.read_csv('https://raw.githubusercontent.com//flaviovdf//evcomp2018//master//data//nba_salaries.csv')\n",
        "df.groupby('POSITION').count()\n"
      ],
      "metadata": {
        "id": "QHLCebsS2NZ9"
      },
      "execution_count": null,
      "outputs": []
    },
    {
      "cell_type": "code",
      "source": [],
      "metadata": {
        "id": "DQzQKL7U2NNS"
      },
      "execution_count": null,
      "outputs": []
    },
    {
      "cell_type": "code",
      "source": [
        "import pandas as pd\n",
        "df=pd.read_csv('https://raw.githubusercontent.com//flaviovdf//evcomp2018//master//data//nba_salaries.csv')\n",
        "df.groupby('POSITION').mean()\n"
      ],
      "metadata": {
        "id": "nVnZJ5N33OsI"
      },
      "execution_count": null,
      "outputs": []
    },
    {
      "cell_type": "code",
      "source": [
        "import numpy as np\n",
        "import pandas as pd\n",
        "df = pd.read_csv('https://raw.githubusercontent.com/flaviovdf/evcomp2018/master/data/educ_inc.csv')\n",
        "new_df= df[df['Year'] == '1/1/14 0:00']\n",
        "new1_df= new_df[new_df['Age'] != '00 to 17']\n",
        "new1_df\n"
      ],
      "metadata": {
        "id": "bOdFpQEi3Oov"
      },
      "execution_count": null,
      "outputs": []
    },
    {
      "cell_type": "code",
      "source": [
        "edu_per_pop = new1_df[['Educational Attainment', 'Personal Income', 'Population Count']]\n",
        "edu_per_pop\n"
      ],
      "metadata": {
        "id": "J0Thr3du3OmZ"
      },
      "execution_count": null,
      "outputs": []
    },
    {
      "cell_type": "code",
      "source": [
        "education = edu_per_pop[['Educational Attainment', 'Population Count']]\n",
        "education.groupby('Educational Attainment').sum()\n"
      ],
      "metadata": {
        "id": "oM8j7c-t3Oj1"
      },
      "execution_count": null,
      "outputs": []
    },
    {
      "cell_type": "code",
      "source": [
        "k['Population Percent'] = (k['Population Count'] /  k['Population Count'].sum()) * 100\n",
        "k\n"
      ],
      "metadata": {
        "id": "YJL19WC43Ogn"
      },
      "execution_count": null,
      "outputs": []
    },
    {
      "cell_type": "code",
      "source": [
        "data = edu_per_pop.pivot_table(index=\"Personal Income\",columns=\"Educational Attainment\",values=\"Population Count\",aggfunc=np.sum)\n",
        "data\n"
      ],
      "metadata": {
        "id": "nX2JbLCs3OdE"
      },
      "execution_count": null,
      "outputs": []
    },
    {
      "cell_type": "code",
      "source": [
        "data[\"Bachelor's degree or higher\"] = (data[\"Bachelor's degree or higher\"] /  data[\"Bachelor's degree or higher\"].sum()) * 100\n",
        "data[\"College, less than 4-yr degree\"] = (data[\"College, less than 4-yr degree\"] /  data[\"College, less than 4-yr degree\"].sum()) * 100\n",
        "data[\"High school or equivalent\"] = (data[\"High school or equivalent\"] /  data[\"High school or equivalent\"].sum()) * 100\n",
        "data[\"No high school diploma\"] = (data[\"No high school diploma\"] /  data[\"No high school diploma\"].sum()) * 100\n",
        "data\n"
      ],
      "metadata": {
        "id": "6U3bOQIm3Oa7"
      },
      "execution_count": null,
      "outputs": []
    },
    {
      "cell_type": "code",
      "source": [
        "import matplotlib.pyplot as plt\n",
        "import pandas as pd\n",
        "data.plot(kind='barh')\n"
      ],
      "metadata": {
        "id": "bFtn7thO3OYt"
      },
      "execution_count": null,
      "outputs": []
    }
  ]
}