{
  "cells": [
    {
      "cell_type": "markdown",
      "metadata": {
        "id": "paqHAtNXmnJY"
      },
      "source": [
        " **1)Get two positive integers start and end from the user and write a Python program to print all Prime numbers in that Interval.**"
      ]
    },
    {
      "cell_type": "code",
      "execution_count": null,
      "metadata": {
        "colab": {
          "base_uri": "https://localhost:8080/"
        },
        "id": "GSCkR6Dne_lQ",
        "outputId": "cc12372c-48f8-4bea-e3f9-3deec48303ce"
      },
      "outputs": [
        {
          "output_type": "stream",
          "name": "stdout",
          "text": [
            "{400.4, 777, '222', 'aman'}\n"
          ]
        }
      ],
      "source": [
        "s={\"aman\", \"222\", 777, 400.4}\n",
        "print(s)"
      ]
    },
    {
      "cell_type": "code",
      "execution_count": null,
      "metadata": {
        "id": "isSaHRQ6nCr2"
      },
      "outputs": [],
      "source": []
    },
    {
      "cell_type": "markdown",
      "metadata": {
        "id": "R_zNCPvFms0e"
      },
      "source": [
        "2)**Create** a dictionary of your basic data: (a) Roll No (b) Last Name (c) First Name (d) Date of birth. Print out the values and keys. ***"
      ]
    },
    {
      "cell_type": "code",
      "execution_count": null,
      "metadata": {
        "colab": {
          "base_uri": "https://localhost:8080/"
        },
        "id": "A26n545-frl3",
        "outputId": "5595c375-32ce-4243-edf9-630b29bd6998"
      },
      "outputs": [
        {
          "output_type": "stream",
          "name": "stdout",
          "text": [
            "{'roll no': 'cse20228', 'firstname': 'Karthik', 'lastname': 'srikakolapu', 'dob': '21-06-2003'}\n"
          ]
        }
      ],
      "source": [
        "s={\"roll no\" : \"cse20228\",\n",
        "    \"firstname\": \"Karthik\",\n",
        "    \"lastname\": \"srikakolapu\",\n",
        "    \"dob\": \"21-06-2003\"}\n",
        "print(s)"
      ]
    },
    {
      "cell_type": "markdown",
      "metadata": {
        "id": "Rp23OP9zm-cg"
      },
      "source": [
        "3)Use rand function to generate a 2-dimensional random array with seed. "
      ]
    },
    {
      "cell_type": "code",
      "execution_count": null,
      "metadata": {
        "colab": {
          "base_uri": "https://localhost:8080/"
        },
        "id": "94SronFyK0TY",
        "outputId": "52b96e7a-4103-4b67-acea-f1bc6e86d192"
      },
      "outputs": [
        {
          "output_type": "stream",
          "name": "stdout",
          "text": [
            "[[ 3 14 15]\n",
            " [ 6 16  9]]\n"
          ]
        }
      ],
      "source": [
        "import numpy as np\n",
        "from numpy import random\n",
        "np.random.seed(5)\n",
        "x=random.randint(20,size=(2,3))\n",
        "print(x)\n"
      ]
    },
    {
      "cell_type": "markdown",
      "metadata": {
        "id": "1p8una58nNwu"
      },
      "source": [
        "4)Generate a single random number in [0.0, 1.0]. Find the absolute value of (-1234) "
      ]
    },
    {
      "cell_type": "code",
      "execution_count": null,
      "metadata": {
        "colab": {
          "base_uri": "https://localhost:8080/"
        },
        "id": "McpVaC916J_7",
        "outputId": "b15db266-c362-4575-dc04-d19e08b0291d"
      },
      "outputs": [
        {
          "name": "stdout",
          "output_type": "stream",
          "text": [
            "0.5171785568557263\n"
          ]
        }
      ],
      "source": [
        "import random\n",
        "print(random.uniform(0.0, 1.0))\n"
      ]
    },
    {
      "cell_type": "markdown",
      "metadata": {
        "id": "rWQI4zW5nUZl"
      },
      "source": [
        "5)Return a random integer N such that 20 <= N <= 90.  "
      ]
    },
    {
      "cell_type": "code",
      "execution_count": null,
      "metadata": {
        "colab": {
          "base_uri": "https://localhost:8080/"
        },
        "id": "wuHAAULz6d54",
        "outputId": "6366a0db-a434-48a2-c807-541887c60148"
      },
      "outputs": [
        {
          "name": "stdout",
          "output_type": "stream",
          "text": [
            "58\n"
          ]
        }
      ],
      "source": [
        "t = random.randint(20,90)\n",
        "print(t)"
      ]
    },
    {
      "cell_type": "markdown",
      "metadata": {
        "id": "zEvzVD9AnZGu"
      },
      "source": [
        "6)Given a population or set[11, 12, 13,14, 15] \n",
        "\n",
        "Return a 3 length list of unique elements without replacement. \n",
        "\n",
        "Shuffle the above set \n",
        "\n",
        "Print a random number from the set "
      ]
    },
    {
      "cell_type": "code",
      "execution_count": null,
      "metadata": {
        "colab": {
          "base_uri": "https://localhost:8080/"
        },
        "id": "CewG3-xtLrl3",
        "outputId": "3fe780bb-2099-4751-cdaa-5634c6358803"
      },
      "outputs": [
        {
          "name": "stdout",
          "output_type": "stream",
          "text": [
            "[12, 15, 13, 11, 14]\n",
            "15\n",
            "[15, 11, 14]\n"
          ]
        }
      ],
      "source": [
        "pop = [11,12,13,14,15]\n",
        "np.random.shuffle(pop)\n",
        "print(pop)\n",
        "print(pop[random.randint(0,5)])\n",
        "temp=[pop.pop(random.randint(0,5)),pop.pop(random.randint(0,4)),pop.pop(random.randint(0,3))]\n",
        "print(temp)"
      ]
    },
    {
      "cell_type": "markdown",
      "metadata": {
        "id": "ulx7ThkvndVb"
      },
      "source": [
        "7)Write the text \"The King is Dead, Long Live The King\" on to a file in your hard drive; read and print the text."
      ]
    },
    {
      "cell_type": "code",
      "execution_count": null,
      "metadata": {
        "colab": {
          "base_uri": "https://localhost:8080/"
        },
        "id": "6PootwzELtD4",
        "outputId": "15622565-b3a1-4ec5-855f-bbd212f45363"
      },
      "outputs": [
        {
          "name": "stdout",
          "output_type": "stream",
          "text": [
            "The King is Dead, Long Live The King "
          ]
        }
      ],
      "source": [
        "f = open('test.txt','w')\n",
        "f.write('The King is Dead, Long Live The King')\n",
        "f.close()\n",
        "f = open('test.txt','r')\n",
        "for i in f:\n",
        "  print(i,end=\" \")\n",
        "f.close()"
      ]
    },
    {
      "cell_type": "markdown",
      "metadata": {
        "id": "5RhCH3MEnlso"
      },
      "source": [
        "9)Given a string \"The King is Dead, Long Live The King\"  \n",
        "\n",
        "Print the complete string \n",
        "\n",
        "Print first character of the string \n",
        "\n",
        "Print characters starting from 3rd to 5th \n",
        "\n",
        "Print string starting from 3rd character \n",
        "\n",
        "Split the words "
      ]
    },
    {
      "cell_type": "code",
      "execution_count": null,
      "metadata": {
        "colab": {
          "base_uri": "https://localhost:8080/"
        },
        "id": "_SPmXYHgiSjC",
        "outputId": "064cbde2-99e0-48db-a517-32ffa208421d"
      },
      "outputs": [
        {
          "name": "stdout",
          "output_type": "stream",
          "text": [
            "The King is Dead, Long Live The King\n"
          ]
        }
      ],
      "source": [
        "dd=\"The King is Dead, Long Live The King\"\n",
        "print(dd)"
      ]
    },
    {
      "cell_type": "code",
      "execution_count": null,
      "metadata": {
        "colab": {
          "base_uri": "https://localhost:8080/"
        },
        "id": "k8A-Jjbuib_K",
        "outputId": "2a7748fb-1136-490b-eccf-d83866586ffc"
      },
      "outputs": [
        {
          "name": "stdout",
          "output_type": "stream",
          "text": [
            "T\n",
            "e K\n",
            "e King is Dead, Long Live The King\n"
          ]
        }
      ],
      "source": [
        "print(dd[0:1])\n",
        "print(dd[2:5])\n",
        "print(dd[2:])"
      ]
    },
    {
      "cell_type": "markdown",
      "metadata": {
        "id": "XSNztIaOnxvp"
      },
      "source": [
        "10)Arrays can be multidimensional. Create a two-dimensional array of (1,2,3) and (4,5,6). "
      ]
    },
    {
      "cell_type": "code",
      "execution_count": null,
      "metadata": {
        "colab": {
          "base_uri": "https://localhost:8080/"
        },
        "id": "FZfMAdW_KNld",
        "outputId": "4715476f-d363-49a8-ad88-b69b7934da78"
      },
      "outputs": [
        {
          "name": "stdout",
          "output_type": "stream",
          "text": [
            "[[1 2 3]\n",
            " [4 5 6]]\n"
          ]
        }
      ],
      "source": [
        "arr = np.array([[1,2,3],[4,5,6]])\n",
        "print(arr)"
      ]
    },
    {
      "cell_type": "markdown",
      "metadata": {
        "id": "RChjUxFPn-d5"
      },
      "source": [
        "11)Array slicing works with multiple dimensions in the same way as usual, applying each slice specification as a filter to a specified dimension. Consider two-dimensional array of (1,2,3) and (4,5,6). \n",
        "\n",
        "Slice and display the 2nd row. \n",
        "\n",
        "Write code to display as array([2., 5.])  \n",
        "\n",
        "Find the length of the array."
      ]
    },
    {
      "cell_type": "code",
      "execution_count": null,
      "metadata": {
        "colab": {
          "base_uri": "https://localhost:8080/"
        },
        "id": "WVg4xHTSMYVF",
        "outputId": "4943d200-e372-4d7e-ca79-72467ed5ed17"
      },
      "outputs": [
        {
          "name": "stdout",
          "output_type": "stream",
          "text": [
            "[4 5 6]\n",
            "2\n"
          ]
        }
      ],
      "source": [
        "print(arr[1])\n",
        "print(len(arr))"
      ]
    },
    {
      "cell_type": "markdown",
      "metadata": {
        "id": "WQn79Ggtq7gH"
      },
      "source": [
        "12)Arrays can be reshaped using tuples that specify new dimensions. Turn a ten-element one-dimensional array into a two-dimensional one whose first axis has five elements and whose second axis has two elements. Obtain the transpose of the array "
      ]
    },
    {
      "cell_type": "code",
      "execution_count": null,
      "metadata": {
        "colab": {
          "base_uri": "https://localhost:8080/"
        },
        "id": "Ol06hJOxq27C",
        "outputId": "485db808-6cf5-401f-ef93-3ebf3bb23af5"
      },
      "outputs": [
        {
          "output_type": "stream",
          "name": "stdout",
          "text": [
            "[1 2 3 4 5 6 7 8 9 0]\n",
            "[[1 2 3 4 5]\n",
            " [6 7 8 9 0]]\n"
          ]
        }
      ],
      "source": [
        "ar=np.array([1,2,3,4,5,6,7,8,9,0])\n",
        "print(ar)\n",
        "ar=ar.reshape(2,5)\n",
        "print(ar)"
      ]
    },
    {
      "cell_type": "markdown",
      "metadata": {
        "id": "GYsVfusSoU7f"
      },
      "source": [
        "13)Create an array from a list of 1,2 and 3. "
      ]
    },
    {
      "cell_type": "markdown",
      "metadata": {
        "id": "7dRBDtY3qfig"
      },
      "source": []
    },
    {
      "cell_type": "code",
      "execution_count": null,
      "metadata": {
        "colab": {
          "base_uri": "https://localhost:8080/"
        },
        "id": "4Rpy44wu5ubj",
        "outputId": "1fac29f2-cd44-4fd6-9e7a-2cdea38d36e0"
      },
      "outputs": [
        {
          "name": "stdout",
          "output_type": "stream",
          "text": [
            "[1 2 3]\n"
          ]
        }
      ],
      "source": [
        "import numpy as np\n",
        "my_list = [1,2,3]\n",
        "arr= np.array(my_list)\n",
        "print(arr)\n"
      ]
    },
    {
      "cell_type": "markdown",
      "metadata": {
        "id": "69rAzXOMquaP"
      },
      "source": [
        "14)Fill an array [1,2,3] with a single value [9,9,9].  "
      ]
    },
    {
      "cell_type": "code",
      "execution_count": null,
      "metadata": {
        "colab": {
          "base_uri": "https://localhost:8080/"
        },
        "id": "HbsXbYCMqqWv",
        "outputId": "7cc3f7f2-3f37-4b57-c216-11714b4a3362"
      },
      "outputs": [
        {
          "name": "stdout",
          "output_type": "stream",
          "text": [
            "[9 9 9]\n"
          ]
        }
      ],
      "source": [
        "a15=[1,2,3]\n",
        "a15=np.full((3),9)\n",
        "print(a15)"
      ]
    },
    {
      "cell_type": "markdown",
      "metadata": {
        "id": "GloFJoEWqmKe"
      },
      "source": [
        "15)Sum the elements of array [2,4,5]. "
      ]
    },
    {
      "cell_type": "code",
      "execution_count": null,
      "metadata": {
        "id": "N0c6SWZ9qliS"
      },
      "outputs": [],
      "source": [
        "a16=[2,4,5]\n",
        "print(sum(a16))"
      ]
    },
    {
      "cell_type": "markdown",
      "metadata": {
        "id": "jlgTCdZJqduz"
      },
      "source": [
        "16)Give the products of array [77,74,75] "
      ]
    },
    {
      "cell_type": "code",
      "execution_count": null,
      "metadata": {
        "colab": {
          "base_uri": "https://localhost:8080/"
        },
        "id": "T2N0At0FqaHJ",
        "outputId": "f663d072-8de5-4f2b-c777-7aefc07bcefa"
      },
      "outputs": [
        {
          "name": "stdout",
          "output_type": "stream",
          "text": [
            "427350\n"
          ]
        }
      ],
      "source": [
        "a17=[77,74,75]\n",
        "prod=1\n",
        "for i in a17:\n",
        "  prod*=i\n",
        "print(prod)"
      ]
    },
    {
      "cell_type": "markdown",
      "metadata": {
        "id": "oVc0oaLGoLoc"
      },
      "source": []
    },
    {
      "cell_type": "markdown",
      "metadata": {
        "id": "QrK7Gj3co439"
      },
      "source": [
        "17)Given an array [2,1,9,1,2,22,1,1,4,55,6,2,56]. Find mean, variance, max, min, argmin, median, argmax and standard deviation. "
      ]
    },
    {
      "cell_type": "code",
      "execution_count": null,
      "metadata": {
        "id": "aBYNjf1spUYD"
      },
      "outputs": [],
      "source": [
        "import numpy as np"
      ]
    },
    {
      "cell_type": "code",
      "execution_count": null,
      "metadata": {
        "colab": {
          "base_uri": "https://localhost:8080/"
        },
        "id": "kibKzDsXo4F-",
        "outputId": "196754c2-dd85-4c65-baa8-dfe33b3a8940"
      },
      "outputs": [
        {
          "name": "stdout",
          "output_type": "stream",
          "text": [
            "Mean= 12.461538461538462\n",
            "Median= 2.0\n",
            "Mode= ModeResult(mode=array([1]), count=array([4]))\n",
            "Max= 56\n",
            "Min= 1\n"
          ]
        }
      ],
      "source": [
        "from scipy import stats\n",
        "ttt=np.array([2,1,9,1,2,22,1,1,4,55,6,2,56])\n",
        "print(\"Mean=\",np.mean(ttt))\n",
        "print(\"Median=\",np.median(ttt))\n",
        "print(\"Mode=\",stats.mode(ttt))\n",
        "print(\"Max=\",max(ttt))\n",
        "print(\"Min=\",min(ttt))"
      ]
    },
    {
      "cell_type": "markdown",
      "metadata": {
        "id": "2pPOUGQ7p4Ob"
      },
      "source": [
        "18)Extract unique elements from an array: [1, 1, 4, 5, 5, 5, 7] and sort it. \n",
        "\n"
      ]
    },
    {
      "cell_type": "code",
      "execution_count": null,
      "metadata": {
        "colab": {
          "base_uri": "https://localhost:8080/"
        },
        "id": "Vhoq-GjdpcT4",
        "outputId": "7f9d968f-5a1c-432d-95f1-4c209ca9431e"
      },
      "outputs": [
        {
          "name": "stdout",
          "output_type": "stream",
          "text": [
            "[1, 4, 5, 7]\n"
          ]
        }
      ],
      "source": [
        "a19=[1, 1, 4, 5, 5, 5, 7]\n",
        "a19=list(set(a19))\n",
        "a19.sort()\n",
        "print(a19)"
      ]
    },
    {
      "cell_type": "markdown",
      "metadata": {
        "id": "LDsYlN_Ep-18"
      },
      "source": [
        "19)Find dot product of two arrays [1, 2, 3]and [0, 1, 1].  \n",
        "\n"
      ]
    },
    {
      "cell_type": "code",
      "execution_count": null,
      "metadata": {
        "colab": {
          "base_uri": "https://localhost:8080/"
        },
        "id": "jJ1lPYRNpglC",
        "outputId": "daab4abc-eadb-4ad4-b88b-9c7a52e6e9f2"
      },
      "outputs": [
        {
          "name": "stdout",
          "output_type": "stream",
          "text": [
            "5\n"
          ]
        }
      ],
      "source": [
        "a20=[1,2,3]\n",
        "b20=[0,1,1]\n",
        "print(np.dot(a20,b20))"
      ]
    },
    {
      "cell_type": "markdown",
      "metadata": {
        "id": "E3JWWCNKqBjz"
      },
      "source": [
        "20)Find the eigenvalues and eigenvectors of matrix A. "
      ]
    },
    {
      "cell_type": "code",
      "execution_count": null,
      "metadata": {
        "colab": {
          "base_uri": "https://localhost:8080/"
        },
        "id": "2W_a_xe0pi8r",
        "outputId": "6b9cfcdd-88f8-48af-8f27-f8a00d78de37"
      },
      "outputs": [
        {
          "name": "stdout",
          "output_type": "stream",
          "text": [
            "[-1. -2.] [[0.9701425  0.9486833 ]\n",
            " [0.24253563 0.31622777]]\n"
          ]
        }
      ],
      "source": [
        "a21=[[2,-12],[1,-5]]\n",
        "x,y=np.linalg.eig(a21)\n",
        "print(x,y)"
      ]
    }
  ],
  "metadata": {
    "colab": {
      "collapsed_sections": [],
      "provenance": []
    },
    "kernelspec": {
      "display_name": "Python 3",
      "name": "python3"
    },
    "language_info": {
      "name": "python"
    }
  },
  "nbformat": 4,
  "nbformat_minor": 0
}