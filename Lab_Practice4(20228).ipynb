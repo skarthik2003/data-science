{
  "cells": [
    {
      "cell_type": "markdown",
      "metadata": {
        "id": "Zh6TMr9FKcH-"
      },
      "source": [
        "## A/B Testing"
      ]
    },
    {
      "cell_type": "code",
      "execution_count": null,
      "metadata": {
        "id": "UVP6xRYUKcIB"
      },
      "outputs": [],
      "source": [
        "In modern data analytics, deciding whether two numerical samples come from the same\n",
        "underlying distribution is called A/B testing. The name refers to the labels of the two\n",
        "samples, A and B."
      ]
    },
    {
      "cell_type": "markdown",
      "metadata": {
        "id": "3OTSymGbKcIC"
      },
      "source": [
        "#### Smokers and Nonsmokers"
      ]
    },
    {
      "cell_type": "markdown",
      "metadata": {
        "id": "N7batoCDKcIC"
      },
      "source": [
        "The dataset \"baby.csv\" contains the following variables for 1,174 mother-baby pairs: \n",
        "the baby's birth weight in ounces, \n",
        "the number of gestational days, \n",
        "the mother's age in completed years,\n",
        "the mother's height in inches, \n",
        "pregnancy weight in pounds, and \n",
        "whether or not the mother smoked during pregnancy."
      ]
    },
    {
      "cell_type": "markdown",
      "metadata": {
        "id": "73MoJS5CKcID"
      },
      "source": [
        "### One of the aims of the study was to see whether maternal smoking was associated with birth weight."
      ]
    },
    {
      "cell_type": "markdown",
      "metadata": {
        "id": "648TGPwkKcID"
      },
      "source": [
        "##### Start by selecting just Birth Weight and Maternal Smoker. There are 715 nonsmokers among the women in the sample, and 459 smokers."
      ]
    },
    {
      "cell_type": "code",
      "execution_count": null,
      "metadata": {
        "id": "prSYJO-kKcIE"
      },
      "outputs": [],
      "source": [
        "import matplotlib\n",
        "import matplotlib.pyplot as plots\n",
        "%matplotlib inline\n",
        "import numpy as np"
      ]
    },
    {
      "cell_type": "code",
      "execution_count": null,
      "metadata": {
        "id": "QiWl4JySKcIE"
      },
      "outputs": [],
      "source": [
        "import pandas as pd"
      ]
    },
    {
      "cell_type": "code",
      "execution_count": null,
      "metadata": {
        "id": "jUWz7V-UKcIF"
      },
      "outputs": [],
      "source": [
        "baby = pd.read_csv('https://github.com/data-8/textbook/raw/gh-pages/data/baby.csv')"
      ]
    },
    {
      "cell_type": "code",
      "execution_count": null,
      "metadata": {
        "id": "r-9kPk22KcIF"
      },
      "outputs": [],
      "source": [
        "# or from 'https://raw.githubusercontent.com/data-8/textbook/gh-pages/data/baby.csv'"
      ]
    },
    {
      "cell_type": "code",
      "execution_count": null,
      "metadata": {
        "id": "bICWuz12KcIG"
      },
      "outputs": [],
      "source": [
        "baby.to_csv('E:/2020/DS/19AI611/python_data_csv/baby.csv')"
      ]
    },
    {
      "cell_type": "code",
      "execution_count": null,
      "metadata": {
        "id": "EnvlfpbWKcIG",
        "outputId": "16fd49ae-da15-4c0a-9b3b-3b1a8c694219"
      },
      "outputs": [
        {
          "data": {
            "text/html": [
              "<div>\n",
              "<style scoped>\n",
              "    .dataframe tbody tr th:only-of-type {\n",
              "        vertical-align: middle;\n",
              "    }\n",
              "\n",
              "    .dataframe tbody tr th {\n",
              "        vertical-align: top;\n",
              "    }\n",
              "\n",
              "    .dataframe thead th {\n",
              "        text-align: right;\n",
              "    }\n",
              "</style>\n",
              "<table border=\"1\" class=\"dataframe\">\n",
              "  <thead>\n",
              "    <tr style=\"text-align: right;\">\n",
              "      <th></th>\n",
              "      <th>Birth Weight</th>\n",
              "      <th>Gestational Days</th>\n",
              "      <th>Maternal Age</th>\n",
              "      <th>Maternal Height</th>\n",
              "      <th>Maternal Pregnancy Weight</th>\n",
              "      <th>Maternal Smoker</th>\n",
              "    </tr>\n",
              "  </thead>\n",
              "  <tbody>\n",
              "    <tr>\n",
              "      <th>0</th>\n",
              "      <td>120</td>\n",
              "      <td>284</td>\n",
              "      <td>27</td>\n",
              "      <td>62</td>\n",
              "      <td>100</td>\n",
              "      <td>False</td>\n",
              "    </tr>\n",
              "    <tr>\n",
              "      <th>1</th>\n",
              "      <td>113</td>\n",
              "      <td>282</td>\n",
              "      <td>33</td>\n",
              "      <td>64</td>\n",
              "      <td>135</td>\n",
              "      <td>False</td>\n",
              "    </tr>\n",
              "    <tr>\n",
              "      <th>2</th>\n",
              "      <td>128</td>\n",
              "      <td>279</td>\n",
              "      <td>28</td>\n",
              "      <td>64</td>\n",
              "      <td>115</td>\n",
              "      <td>True</td>\n",
              "    </tr>\n",
              "    <tr>\n",
              "      <th>3</th>\n",
              "      <td>108</td>\n",
              "      <td>282</td>\n",
              "      <td>23</td>\n",
              "      <td>67</td>\n",
              "      <td>125</td>\n",
              "      <td>True</td>\n",
              "    </tr>\n",
              "    <tr>\n",
              "      <th>4</th>\n",
              "      <td>136</td>\n",
              "      <td>286</td>\n",
              "      <td>25</td>\n",
              "      <td>62</td>\n",
              "      <td>93</td>\n",
              "      <td>False</td>\n",
              "    </tr>\n",
              "    <tr>\n",
              "      <th>...</th>\n",
              "      <td>...</td>\n",
              "      <td>...</td>\n",
              "      <td>...</td>\n",
              "      <td>...</td>\n",
              "      <td>...</td>\n",
              "      <td>...</td>\n",
              "    </tr>\n",
              "    <tr>\n",
              "      <th>1169</th>\n",
              "      <td>113</td>\n",
              "      <td>275</td>\n",
              "      <td>27</td>\n",
              "      <td>60</td>\n",
              "      <td>100</td>\n",
              "      <td>False</td>\n",
              "    </tr>\n",
              "    <tr>\n",
              "      <th>1170</th>\n",
              "      <td>128</td>\n",
              "      <td>265</td>\n",
              "      <td>24</td>\n",
              "      <td>67</td>\n",
              "      <td>120</td>\n",
              "      <td>False</td>\n",
              "    </tr>\n",
              "    <tr>\n",
              "      <th>1171</th>\n",
              "      <td>130</td>\n",
              "      <td>291</td>\n",
              "      <td>30</td>\n",
              "      <td>65</td>\n",
              "      <td>150</td>\n",
              "      <td>True</td>\n",
              "    </tr>\n",
              "    <tr>\n",
              "      <th>1172</th>\n",
              "      <td>125</td>\n",
              "      <td>281</td>\n",
              "      <td>21</td>\n",
              "      <td>65</td>\n",
              "      <td>110</td>\n",
              "      <td>False</td>\n",
              "    </tr>\n",
              "    <tr>\n",
              "      <th>1173</th>\n",
              "      <td>117</td>\n",
              "      <td>297</td>\n",
              "      <td>38</td>\n",
              "      <td>65</td>\n",
              "      <td>129</td>\n",
              "      <td>False</td>\n",
              "    </tr>\n",
              "  </tbody>\n",
              "</table>\n",
              "<p>1174 rows × 6 columns</p>\n",
              "</div>"
            ],
            "text/plain": [
              "      Birth Weight  Gestational Days  Maternal Age  Maternal Height  \\\n",
              "0              120               284            27               62   \n",
              "1              113               282            33               64   \n",
              "2              128               279            28               64   \n",
              "3              108               282            23               67   \n",
              "4              136               286            25               62   \n",
              "...            ...               ...           ...              ...   \n",
              "1169           113               275            27               60   \n",
              "1170           128               265            24               67   \n",
              "1171           130               291            30               65   \n",
              "1172           125               281            21               65   \n",
              "1173           117               297            38               65   \n",
              "\n",
              "      Maternal Pregnancy Weight  Maternal Smoker  \n",
              "0                           100            False  \n",
              "1                           135            False  \n",
              "2                           115             True  \n",
              "3                           125             True  \n",
              "4                            93            False  \n",
              "...                         ...              ...  \n",
              "1169                        100            False  \n",
              "1170                        120            False  \n",
              "1171                        150             True  \n",
              "1172                        110            False  \n",
              "1173                        129            False  \n",
              "\n",
              "[1174 rows x 6 columns]"
            ]
          },
          "execution_count": 3,
          "metadata": {},
          "output_type": "execute_result"
        }
      ],
      "source": [
        "baby"
      ]
    },
    {
      "cell_type": "code",
      "execution_count": null,
      "metadata": {
        "id": "FHBHmetdKcIH",
        "outputId": "336391a9-c94d-47a1-a72f-29be14306f86"
      },
      "outputs": [
        {
          "data": {
            "text/html": [
              "<div>\n",
              "<style scoped>\n",
              "    .dataframe tbody tr th:only-of-type {\n",
              "        vertical-align: middle;\n",
              "    }\n",
              "\n",
              "    .dataframe tbody tr th {\n",
              "        vertical-align: top;\n",
              "    }\n",
              "\n",
              "    .dataframe thead th {\n",
              "        text-align: right;\n",
              "    }\n",
              "</style>\n",
              "<table border=\"1\" class=\"dataframe\">\n",
              "  <thead>\n",
              "    <tr style=\"text-align: right;\">\n",
              "      <th></th>\n",
              "      <th>Maternal Smoker</th>\n",
              "      <th>Birth Weight</th>\n",
              "    </tr>\n",
              "  </thead>\n",
              "  <tbody>\n",
              "    <tr>\n",
              "      <th>0</th>\n",
              "      <td>False</td>\n",
              "      <td>120</td>\n",
              "    </tr>\n",
              "    <tr>\n",
              "      <th>1</th>\n",
              "      <td>False</td>\n",
              "      <td>113</td>\n",
              "    </tr>\n",
              "    <tr>\n",
              "      <th>2</th>\n",
              "      <td>True</td>\n",
              "      <td>128</td>\n",
              "    </tr>\n",
              "    <tr>\n",
              "      <th>3</th>\n",
              "      <td>True</td>\n",
              "      <td>108</td>\n",
              "    </tr>\n",
              "    <tr>\n",
              "      <th>4</th>\n",
              "      <td>False</td>\n",
              "      <td>136</td>\n",
              "    </tr>\n",
              "    <tr>\n",
              "      <th>...</th>\n",
              "      <td>...</td>\n",
              "      <td>...</td>\n",
              "    </tr>\n",
              "    <tr>\n",
              "      <th>1169</th>\n",
              "      <td>False</td>\n",
              "      <td>113</td>\n",
              "    </tr>\n",
              "    <tr>\n",
              "      <th>1170</th>\n",
              "      <td>False</td>\n",
              "      <td>128</td>\n",
              "    </tr>\n",
              "    <tr>\n",
              "      <th>1171</th>\n",
              "      <td>True</td>\n",
              "      <td>130</td>\n",
              "    </tr>\n",
              "    <tr>\n",
              "      <th>1172</th>\n",
              "      <td>False</td>\n",
              "      <td>125</td>\n",
              "    </tr>\n",
              "    <tr>\n",
              "      <th>1173</th>\n",
              "      <td>False</td>\n",
              "      <td>117</td>\n",
              "    </tr>\n",
              "  </tbody>\n",
              "</table>\n",
              "<p>1174 rows × 2 columns</p>\n",
              "</div>"
            ],
            "text/plain": [
              "      Maternal Smoker  Birth Weight\n",
              "0               False           120\n",
              "1               False           113\n",
              "2                True           128\n",
              "3                True           108\n",
              "4               False           136\n",
              "...               ...           ...\n",
              "1169            False           113\n",
              "1170            False           128\n",
              "1171             True           130\n",
              "1172            False           125\n",
              "1173            False           117\n",
              "\n",
              "[1174 rows x 2 columns]"
            ]
          },
          "execution_count": 104,
          "metadata": {},
          "output_type": "execute_result"
        }
      ],
      "source": [
        "smoking_and_birthweight = baby[['Maternal Smoker', 'Birth Weight']]\n",
        "smoking_and_birthweight"
      ]
    },
    {
      "cell_type": "code",
      "execution_count": null,
      "metadata": {
        "id": "Klv6fNgeKcIH",
        "outputId": "545238b8-9810-4841-cbc4-e1f27b0a3533"
      },
      "outputs": [
        {
          "data": {
            "text/plain": [
              "0       False\n",
              "1       False\n",
              "2        True\n",
              "3        True\n",
              "4       False\n",
              "        ...  \n",
              "1169    False\n",
              "1170    False\n",
              "1171     True\n",
              "1172    False\n",
              "1173    False\n",
              "Name: Maternal Smoker, Length: 1174, dtype: bool"
            ]
          },
          "execution_count": 39,
          "metadata": {},
          "output_type": "execute_result"
        }
      ],
      "source": [
        "smoking_and_birthweight['Maternal Smoker'] == True"
      ]
    },
    {
      "cell_type": "code",
      "execution_count": null,
      "metadata": {
        "id": "ZN0SHvhjKcII",
        "outputId": "19593ae6-7c93-4ff8-90c5-8d1ceb5af0be"
      },
      "outputs": [
        {
          "data": {
            "text/plain": [
              "2       128\n",
              "3       108\n",
              "8       143\n",
              "10      144\n",
              "11      141\n",
              "       ... \n",
              "1162    143\n",
              "1163    113\n",
              "1164    109\n",
              "1165    103\n",
              "1171    130\n",
              "Name: Birth Weight, Length: 459, dtype: int64"
            ]
          },
          "execution_count": 40,
          "metadata": {},
          "output_type": "execute_result"
        }
      ],
      "source": [
        "smoker = smoking_and_birthweight['Birth Weight'] [smoking_and_birthweight['Maternal Smoker'] == True]\n",
        "smoker"
      ]
    },
    {
      "cell_type": "code",
      "execution_count": null,
      "metadata": {
        "id": "bhI64BgZKcII",
        "outputId": "591fcc59-5603-4684-e34e-a16308fd3493"
      },
      "outputs": [
        {
          "data": {
            "text/plain": [
              "0       120\n",
              "1       113\n",
              "4       136\n",
              "5       138\n",
              "6       132\n",
              "       ... \n",
              "1168    132\n",
              "1169    113\n",
              "1170    128\n",
              "1172    125\n",
              "1173    117\n",
              "Name: Birth Weight, Length: 715, dtype: int64"
            ]
          },
          "execution_count": 41,
          "metadata": {},
          "output_type": "execute_result"
        }
      ],
      "source": [
        "non_smoker = smoking_and_birthweight['Birth Weight'] [smoking_and_birthweight['Maternal Smoker'] == False]\n",
        "non_smoker"
      ]
    },
    {
      "cell_type": "code",
      "execution_count": null,
      "metadata": {
        "id": "QlYqekebKcII"
      },
      "outputs": [],
      "source": [
        "import matplotlib.pyplot as plt\n",
        "%matplotlib inline"
      ]
    },
    {
      "cell_type": "code",
      "execution_count": null,
      "metadata": {
        "id": "cj0heBkcKcII",
        "outputId": "5213f9be-7782-469e-c9a9-74481c0cf1bd"
      },
      "outputs": [
        {
          "data": {
            "text/plain": [
              "array([<matplotlib.axes._subplots.AxesSubplot object at 0x0000000005623508>,\n",
              "       <matplotlib.axes._subplots.AxesSubplot object at 0x0000000005645A48>],\n",
              "      dtype=object)"
            ]
          },
          "execution_count": 43,
          "metadata": {},
          "output_type": "execute_result"
        },
        {
          "data": {
            "image/png": "[encoded data removed]",
            "text/plain": [
              "<Figure size 432x288 with 2 Axes>"
            ]
          },
          "metadata": {
            "needs_background": "light"
          },
          "output_type": "display_data"
        }
      ],
      "source": [
        "smoking_and_birthweight.hist(by ='Maternal Smoker')"
      ]
    },
    {
      "cell_type": "code",
      "execution_count": null,
      "metadata": {
        "id": "ngb-Oxw_KcIJ",
        "outputId": "6a2142cb-a1f0-438f-d2dd-379d4f576dd2"
      },
      "outputs": [
        {
          "data": {
            "image/png": "[encoded data removed]",
            "text/plain": [
              "<Figure size 432x288 with 1 Axes>"
            ]
          },
          "metadata": {
            "needs_background": "light"
          },
          "output_type": "display_data"
        }
      ],
      "source": [
        "import seaborn as sns\n",
        "smoker.hist(histtype='stepfilled', alpha=.5, bins=20)   # default number of bins = 10\n",
        "non_smoker.hist(histtype='stepfilled', alpha=.5, color=sns.desaturate(\"indianred\", .75), bins=10)\n",
        "plt.xlabel('Women',fontsize=15)\n",
        "plt.ylabel('Baby weight',fontsize=15)\n",
        "plt.show()"
      ]
    },
    {
      "cell_type": "markdown",
      "metadata": {
        "id": "zxM2m9_1KcIJ"
      },
      "source": [
        "The distribution of the weights of the babies born to mothers who smoked appears to be\n",
        "shifted slightly to the left of the distribution corresponding to non-smoking mothers. The\n",
        "weights of the babies of the mothers who smoked seem lower, on average than the weights\n",
        "of the babies of the non-smokers. "
      ]
    },
    {
      "cell_type": "markdown",
      "metadata": {
        "id": "FDUwWiwnKcIJ"
      },
      "source": [
        "### The Hypotheses\n",
        "We can try to answer this question by a test of hypotheses. The chance model that we will\n",
        "test says that there is no underlying difference; the distributions in the samples are different\n",
        "just due to chance. Formally, this is the null hypothesis.\n",
        "Null hypothesis: In the population, the distribution of birth weights of babies is the same for\n",
        "mothers who don't smoke as for mothers who do. The difference in the sample is due to chance.\n",
        "Alternative hypothesis: In the population, the babies of the mothers who smoke have a\n",
        "lower birth weight, on average, than the babies of the non-smokers. \"\"\""
      ]
    },
    {
      "cell_type": "markdown",
      "metadata": {
        "id": "9xTFXetYKcIK"
      },
      "source": [
        "### Test Statistic\n",
        "The alternative hypothesis compares the average birth weights of the two groups and says\n",
        "that the average for the mothers who smoke is smaller. Therefore it is reasonable for us to\n",
        "use the difference between the two group means as our statistic.\n",
        "\n",
        "We will do the subtraction in the order \"average weight of the smoking group - average\n",
        "weight of the non-smoking group\". Small values (that is, large negative values) of this\n",
        "statistic will favor the alternative hypothesis\n",
        "\n",
        "The observed value of the test statistic is about -9.3 ounces.\n",
        "means_table = smoking_and_birthweight.group('Maternal Smoker',np.average)\n",
        "means_table"
      ]
    },
    {
      "cell_type": "code",
      "execution_count": null,
      "metadata": {
        "id": "MusA1YElKcIK",
        "outputId": "79369430-cb7a-40fc-f01c-305eba821f0e"
      },
      "outputs": [
        {
          "data": {
            "text/plain": [
              "pandas.core.frame.DataFrame"
            ]
          },
          "execution_count": 45,
          "metadata": {},
          "output_type": "execute_result"
        }
      ],
      "source": [
        "means_table = smoking_and_birthweight.groupby('Maternal Smoker').mean()\n",
        "type(means_table)"
      ]
    },
    {
      "cell_type": "code",
      "execution_count": null,
      "metadata": {
        "id": "mlV418M6KcIK",
        "outputId": "4f910050-225d-42e1-f1d5-07d903c62c27"
      },
      "outputs": [
        {
          "data": {
            "text/html": [
              "<div>\n",
              "<style scoped>\n",
              "    .dataframe tbody tr th:only-of-type {\n",
              "        vertical-align: middle;\n",
              "    }\n",
              "\n",
              "    .dataframe tbody tr th {\n",
              "        vertical-align: top;\n",
              "    }\n",
              "\n",
              "    .dataframe thead th {\n",
              "        text-align: right;\n",
              "    }\n",
              "</style>\n",
              "<table border=\"1\" class=\"dataframe\">\n",
              "  <thead>\n",
              "    <tr style=\"text-align: right;\">\n",
              "      <th></th>\n",
              "      <th>Birth Weight</th>\n",
              "    </tr>\n",
              "    <tr>\n",
              "      <th>Maternal Smoker</th>\n",
              "      <th></th>\n",
              "    </tr>\n",
              "  </thead>\n",
              "  <tbody>\n",
              "    <tr>\n",
              "      <th>False</th>\n",
              "      <td>123.085315</td>\n",
              "    </tr>\n",
              "    <tr>\n",
              "      <th>True</th>\n",
              "      <td>113.819172</td>\n",
              "    </tr>\n",
              "  </tbody>\n",
              "</table>\n",
              "</div>"
            ],
            "text/plain": [
              "                 Birth Weight\n",
              "Maternal Smoker              \n",
              "False              123.085315\n",
              "True               113.819172"
            ]
          },
          "execution_count": 46,
          "metadata": {},
          "output_type": "execute_result"
        }
      ],
      "source": [
        "means_table"
      ]
    },
    {
      "cell_type": "code",
      "execution_count": null,
      "metadata": {
        "id": "Hcsm0_nLKcIL"
      },
      "outputs": [],
      "source": [
        "observed_difference = means_table['Birth Weight'][1] - means_table['Birth Weight'][0]"
      ]
    },
    {
      "cell_type": "markdown",
      "metadata": {
        "id": "2eamLvUWKcIL"
      },
      "source": [
        "### Predicting the Statistic Under the Null Hypothesis"
      ]
    },
    {
      "cell_type": "markdown",
      "metadata": {
        "id": "tzLqMx4IKcIL"
      },
      "source": [
        "To see how the statistic should vary under the null hypothesis, we have to figure out how to\n",
        "simulate the statistic under that hypothesis. A clever method based on random permutations\n",
        "does just that."
      ]
    },
    {
      "cell_type": "markdown",
      "metadata": {
        "id": "RdWY7oJXKcIL"
      },
      "source": [
        "#### Random permutation."
      ]
    },
    {
      "cell_type": "markdown",
      "metadata": {
        "id": "LSy2rbDnKcIL"
      },
      "source": [
        "If there were no difference between the two distributions in the underlying population, then whether a birth weight has the label True or False with respect to maternal smoking should make no difference to the average. The idea, then, is to shuffle all the birth weights randomly among the mothers. This is called random permutation."
      ]
    },
    {
      "cell_type": "markdown",
      "metadata": {
        "id": "qR43w17dKcIL"
      },
      "source": [
        "Take the difference of the two new group means: the mean of the shuffled weights assigned to the smokers and the mean of the shuffled weights assigned to the non-smokers. This is a simulated value of the test statistic under the null hypothesis."
      ]
    },
    {
      "cell_type": "code",
      "execution_count": null,
      "metadata": {
        "id": "CwPJgxeyKcIL",
        "outputId": "5eee6bd5-5fd6-4ea8-9f4b-24c87ec662e4"
      },
      "outputs": [
        {
          "data": {
            "text/html": [
              "<div>\n",
              "<style scoped>\n",
              "    .dataframe tbody tr th:only-of-type {\n",
              "        vertical-align: middle;\n",
              "    }\n",
              "\n",
              "    .dataframe tbody tr th {\n",
              "        vertical-align: top;\n",
              "    }\n",
              "\n",
              "    .dataframe thead th {\n",
              "        text-align: right;\n",
              "    }\n",
              "</style>\n",
              "<table border=\"1\" class=\"dataframe\">\n",
              "  <thead>\n",
              "    <tr style=\"text-align: right;\">\n",
              "      <th></th>\n",
              "      <th>Maternal Smoker</th>\n",
              "      <th>Birth Weight</th>\n",
              "    </tr>\n",
              "  </thead>\n",
              "  <tbody>\n",
              "    <tr>\n",
              "      <th>0</th>\n",
              "      <td>False</td>\n",
              "      <td>120</td>\n",
              "    </tr>\n",
              "    <tr>\n",
              "      <th>1</th>\n",
              "      <td>False</td>\n",
              "      <td>113</td>\n",
              "    </tr>\n",
              "    <tr>\n",
              "      <th>2</th>\n",
              "      <td>True</td>\n",
              "      <td>128</td>\n",
              "    </tr>\n",
              "    <tr>\n",
              "      <th>3</th>\n",
              "      <td>True</td>\n",
              "      <td>108</td>\n",
              "    </tr>\n",
              "    <tr>\n",
              "      <th>4</th>\n",
              "      <td>False</td>\n",
              "      <td>136</td>\n",
              "    </tr>\n",
              "    <tr>\n",
              "      <th>...</th>\n",
              "      <td>...</td>\n",
              "      <td>...</td>\n",
              "    </tr>\n",
              "    <tr>\n",
              "      <th>1169</th>\n",
              "      <td>False</td>\n",
              "      <td>113</td>\n",
              "    </tr>\n",
              "    <tr>\n",
              "      <th>1170</th>\n",
              "      <td>False</td>\n",
              "      <td>128</td>\n",
              "    </tr>\n",
              "    <tr>\n",
              "      <th>1171</th>\n",
              "      <td>True</td>\n",
              "      <td>130</td>\n",
              "    </tr>\n",
              "    <tr>\n",
              "      <th>1172</th>\n",
              "      <td>False</td>\n",
              "      <td>125</td>\n",
              "    </tr>\n",
              "    <tr>\n",
              "      <th>1173</th>\n",
              "      <td>False</td>\n",
              "      <td>117</td>\n",
              "    </tr>\n",
              "  </tbody>\n",
              "</table>\n",
              "<p>1174 rows × 2 columns</p>\n",
              "</div>"
            ],
            "text/plain": [
              "      Maternal Smoker  Birth Weight\n",
              "0               False           120\n",
              "1               False           113\n",
              "2                True           128\n",
              "3                True           108\n",
              "4               False           136\n",
              "...               ...           ...\n",
              "1169            False           113\n",
              "1170            False           128\n",
              "1171             True           130\n",
              "1172            False           125\n",
              "1173            False           117\n",
              "\n",
              "[1174 rows x 2 columns]"
            ]
          },
          "execution_count": 105,
          "metadata": {},
          "output_type": "execute_result"
        }
      ],
      "source": [
        "smoking_and_birthweight"
      ]
    },
    {
      "cell_type": "markdown",
      "metadata": {
        "id": "1MxfIznoKcIM"
      },
      "source": [
        "There are 1,174 rows in the table. To shuffle all the birthweights, we will draw a random\n",
        "sample of 1,174 rows without replacement. Then the sample will include all the rows of the\n",
        "table, in random order.\n",
        "We can use the method sample with the optional replace=False argument.\n"
      ]
    },
    {
      "cell_type": "code",
      "execution_count": null,
      "metadata": {
        "id": "lpo7CsIiKcIM",
        "outputId": "9dcc919d-a4de-49e7-fbc1-a542287cb781"
      },
      "outputs": [
        {
          "data": {
            "text/html": [
              "<div>\n",
              "<style scoped>\n",
              "    .dataframe tbody tr th:only-of-type {\n",
              "        vertical-align: middle;\n",
              "    }\n",
              "\n",
              "    .dataframe tbody tr th {\n",
              "        vertical-align: top;\n",
              "    }\n",
              "\n",
              "    .dataframe thead th {\n",
              "        text-align: right;\n",
              "    }\n",
              "</style>\n",
              "<table border=\"1\" class=\"dataframe\">\n",
              "  <thead>\n",
              "    <tr style=\"text-align: right;\">\n",
              "      <th></th>\n",
              "      <th>Maternal Smoker</th>\n",
              "      <th>Birth Weight</th>\n",
              "    </tr>\n",
              "  </thead>\n",
              "  <tbody>\n",
              "    <tr>\n",
              "      <th>990</th>\n",
              "      <td>False</td>\n",
              "      <td>136</td>\n",
              "    </tr>\n",
              "    <tr>\n",
              "      <th>806</th>\n",
              "      <td>False</td>\n",
              "      <td>126</td>\n",
              "    </tr>\n",
              "    <tr>\n",
              "      <th>173</th>\n",
              "      <td>False</td>\n",
              "      <td>107</td>\n",
              "    </tr>\n",
              "    <tr>\n",
              "      <th>489</th>\n",
              "      <td>True</td>\n",
              "      <td>101</td>\n",
              "    </tr>\n",
              "    <tr>\n",
              "      <th>213</th>\n",
              "      <td>True</td>\n",
              "      <td>154</td>\n",
              "    </tr>\n",
              "    <tr>\n",
              "      <th>...</th>\n",
              "      <td>...</td>\n",
              "      <td>...</td>\n",
              "    </tr>\n",
              "    <tr>\n",
              "      <th>658</th>\n",
              "      <td>False</td>\n",
              "      <td>109</td>\n",
              "    </tr>\n",
              "    <tr>\n",
              "      <th>176</th>\n",
              "      <td>False</td>\n",
              "      <td>136</td>\n",
              "    </tr>\n",
              "    <tr>\n",
              "      <th>1040</th>\n",
              "      <td>False</td>\n",
              "      <td>124</td>\n",
              "    </tr>\n",
              "    <tr>\n",
              "      <th>328</th>\n",
              "      <td>False</td>\n",
              "      <td>118</td>\n",
              "    </tr>\n",
              "    <tr>\n",
              "      <th>535</th>\n",
              "      <td>True</td>\n",
              "      <td>119</td>\n",
              "    </tr>\n",
              "  </tbody>\n",
              "</table>\n",
              "<p>1174 rows × 2 columns</p>\n",
              "</div>"
            ],
            "text/plain": [
              "      Maternal Smoker  Birth Weight\n",
              "990             False           136\n",
              "806             False           126\n",
              "173             False           107\n",
              "489              True           101\n",
              "213              True           154\n",
              "...               ...           ...\n",
              "658             False           109\n",
              "176             False           136\n",
              "1040            False           124\n",
              "328             False           118\n",
              "535              True           119\n",
              "\n",
              "[1174 rows x 2 columns]"
            ]
          },
          "execution_count": 106,
          "metadata": {},
          "output_type": "execute_result"
        }
      ],
      "source": [
        "shuffled = smoking_and_birthweight.sample(1174,replace = False)\n",
        "shuffled"
      ]
    },
    {
      "cell_type": "code",
      "execution_count": null,
      "metadata": {
        "id": "5uhYUVgHKcIM",
        "outputId": "fba738af-58eb-4248-eb8c-b9b37a69edc7"
      },
      "outputs": [
        {
          "data": {
            "text/plain": [
              "pandas.core.series.Series"
            ]
          },
          "execution_count": 107,
          "metadata": {},
          "output_type": "execute_result"
        }
      ],
      "source": [
        "shuffled_weights = shuffled['Birth Weight']\n",
        "type(shuffled_weights)"
      ]
    },
    {
      "cell_type": "code",
      "execution_count": null,
      "metadata": {
        "id": "x38v71I8KcIM"
      },
      "outputs": [],
      "source": [
        "original_and_shuffled= smoking_and_birthweight.assign(shuffled_weights=shuffled_weights.values )"
      ]
    },
    {
      "cell_type": "code",
      "execution_count": null,
      "metadata": {
        "id": "UHLeATkYKcIM",
        "outputId": "41134894-25b0-4b14-93cb-28f3851251eb"
      },
      "outputs": [
        {
          "data": {
            "text/html": [
              "<div>\n",
              "<style scoped>\n",
              "    .dataframe tbody tr th:only-of-type {\n",
              "        vertical-align: middle;\n",
              "    }\n",
              "\n",
              "    .dataframe tbody tr th {\n",
              "        vertical-align: top;\n",
              "    }\n",
              "\n",
              "    .dataframe thead th {\n",
              "        text-align: right;\n",
              "    }\n",
              "</style>\n",
              "<table border=\"1\" class=\"dataframe\">\n",
              "  <thead>\n",
              "    <tr style=\"text-align: right;\">\n",
              "      <th></th>\n",
              "      <th>Maternal Smoker</th>\n",
              "      <th>Birth Weight</th>\n",
              "      <th>shuffled_weights</th>\n",
              "    </tr>\n",
              "  </thead>\n",
              "  <tbody>\n",
              "    <tr>\n",
              "      <th>0</th>\n",
              "      <td>False</td>\n",
              "      <td>120</td>\n",
              "      <td>136</td>\n",
              "    </tr>\n",
              "    <tr>\n",
              "      <th>1</th>\n",
              "      <td>False</td>\n",
              "      <td>113</td>\n",
              "      <td>126</td>\n",
              "    </tr>\n",
              "    <tr>\n",
              "      <th>2</th>\n",
              "      <td>True</td>\n",
              "      <td>128</td>\n",
              "      <td>107</td>\n",
              "    </tr>\n",
              "    <tr>\n",
              "      <th>3</th>\n",
              "      <td>True</td>\n",
              "      <td>108</td>\n",
              "      <td>101</td>\n",
              "    </tr>\n",
              "    <tr>\n",
              "      <th>4</th>\n",
              "      <td>False</td>\n",
              "      <td>136</td>\n",
              "      <td>154</td>\n",
              "    </tr>\n",
              "    <tr>\n",
              "      <th>...</th>\n",
              "      <td>...</td>\n",
              "      <td>...</td>\n",
              "      <td>...</td>\n",
              "    </tr>\n",
              "    <tr>\n",
              "      <th>1169</th>\n",
              "      <td>False</td>\n",
              "      <td>113</td>\n",
              "      <td>109</td>\n",
              "    </tr>\n",
              "    <tr>\n",
              "      <th>1170</th>\n",
              "      <td>False</td>\n",
              "      <td>128</td>\n",
              "      <td>136</td>\n",
              "    </tr>\n",
              "    <tr>\n",
              "      <th>1171</th>\n",
              "      <td>True</td>\n",
              "      <td>130</td>\n",
              "      <td>124</td>\n",
              "    </tr>\n",
              "    <tr>\n",
              "      <th>1172</th>\n",
              "      <td>False</td>\n",
              "      <td>125</td>\n",
              "      <td>118</td>\n",
              "    </tr>\n",
              "    <tr>\n",
              "      <th>1173</th>\n",
              "      <td>False</td>\n",
              "      <td>117</td>\n",
              "      <td>119</td>\n",
              "    </tr>\n",
              "  </tbody>\n",
              "</table>\n",
              "<p>1174 rows × 3 columns</p>\n",
              "</div>"
            ],
            "text/plain": [
              "      Maternal Smoker  Birth Weight  shuffled_weights\n",
              "0               False           120               136\n",
              "1               False           113               126\n",
              "2                True           128               107\n",
              "3                True           108               101\n",
              "4               False           136               154\n",
              "...               ...           ...               ...\n",
              "1169            False           113               109\n",
              "1170            False           128               136\n",
              "1171             True           130               124\n",
              "1172            False           125               118\n",
              "1173            False           117               119\n",
              "\n",
              "[1174 rows x 3 columns]"
            ]
          },
          "execution_count": 109,
          "metadata": {},
          "output_type": "execute_result"
        }
      ],
      "source": [
        "original_and_shuffled"
      ]
    },
    {
      "cell_type": "markdown",
      "metadata": {
        "id": "6AV7Ei5gKcIM"
      },
      "source": [
        "Each mother now has a random birth weight assigned to her. If the null hypothesis is true, all these random arrangements should be equally likely. See how different the average weights are in the two randomly selected groups. "
      ]
    },
    {
      "cell_type": "code",
      "execution_count": null,
      "metadata": {
        "id": "XdVma0sSKcIN",
        "outputId": "9cc1a35e-4bbf-4e1c-9989-31b4670ab9a9"
      },
      "outputs": [
        {
          "data": {
            "text/html": [
              "<div>\n",
              "<style scoped>\n",
              "    .dataframe tbody tr th:only-of-type {\n",
              "        vertical-align: middle;\n",
              "    }\n",
              "\n",
              "    .dataframe tbody tr th {\n",
              "        vertical-align: top;\n",
              "    }\n",
              "\n",
              "    .dataframe thead th {\n",
              "        text-align: right;\n",
              "    }\n",
              "</style>\n",
              "<table border=\"1\" class=\"dataframe\">\n",
              "  <thead>\n",
              "    <tr style=\"text-align: right;\">\n",
              "      <th></th>\n",
              "      <th>Birth Weight</th>\n",
              "      <th>shuffled_weights</th>\n",
              "    </tr>\n",
              "    <tr>\n",
              "      <th>Maternal Smoker</th>\n",
              "      <th></th>\n",
              "      <th></th>\n",
              "    </tr>\n",
              "  </thead>\n",
              "  <tbody>\n",
              "    <tr>\n",
              "      <th>False</th>\n",
              "      <td>123.085315</td>\n",
              "      <td>119.707692</td>\n",
              "    </tr>\n",
              "    <tr>\n",
              "      <th>True</th>\n",
              "      <td>113.819172</td>\n",
              "      <td>119.080610</td>\n",
              "    </tr>\n",
              "  </tbody>\n",
              "</table>\n",
              "</div>"
            ],
            "text/plain": [
              "                 Birth Weight  shuffled_weights\n",
              "Maternal Smoker                                \n",
              "False              123.085315        119.707692\n",
              "True               113.819172        119.080610"
            ]
          },
          "execution_count": 113,
          "metadata": {},
          "output_type": "execute_result"
        }
      ],
      "source": [
        "all_group_means= original_and_shuffled.groupby('Maternal Smoker').mean()\n",
        "all_group_means"
      ]
    },
    {
      "cell_type": "markdown",
      "metadata": {
        "id": "zeuDwCjUKcIN"
      },
      "source": [
        "The averages of the two randomly selected groups are quite a bit closer than the averages of the two original groups."
      ]
    },
    {
      "cell_type": "code",
      "execution_count": null,
      "metadata": {
        "id": "nqXi6EeTKcIN",
        "outputId": "10a9fbcd-02dc-4bc7-b4af-ef20c7041a4f"
      },
      "outputs": [
        {
          "data": {
            "text/plain": [
              "0.6270822859058143"
            ]
          },
          "execution_count": 114,
          "metadata": {},
          "output_type": "execute_result"
        }
      ],
      "source": [
        "difference = all_group_means['shuffled_weights'][0]- all_group_means['shuffled_weights'][1]\n",
        "difference"
      ]
    },
    {
      "cell_type": "markdown",
      "metadata": {
        "id": "ym7sT-FdKcIN"
      },
      "source": [
        "#### But could a different shuffle have resulted in a larger difference between the group average"
      ]
    },
    {
      "cell_type": "markdown",
      "metadata": {
        "id": "1kb1j8WnKcIN"
      },
      "source": [
        "To get a sense of the variability, simulate the difference many times. "
      ]
    },
    {
      "cell_type": "markdown",
      "metadata": {
        "id": "MHk-BKkAKcIN"
      },
      "source": [
        "##### One simulation"
      ]
    },
    {
      "cell_type": "code",
      "execution_count": null,
      "metadata": {
        "id": "Je5ot75sKcIN",
        "outputId": "386ad5ad-d490-4074-80b3-ec5f5b847156"
      },
      "outputs": [
        {
          "data": {
            "text/plain": [
              "-1.1794292853116275"
            ]
          },
          "execution_count": 116,
          "metadata": {},
          "output_type": "execute_result"
        }
      ],
      "source": [
        "smoking_and_birthweight = baby[['Maternal Smoker', 'Birth Weight']]\n",
        "shuffled = smoking_and_birthweight.sample(1174,replace = False)\n",
        "shuffled_weights = shuffled['Birth Weight']\n",
        "original_and_shuffled = smoking_and_birthweight.assign(shuffled_weights=shuffled_weights.values )\n",
        "all_group_means= original_and_shuffled.groupby('Maternal Smoker').mean()\n",
        "difference = all_group_means['shuffled_weights'][0]- all_group_means['shuffled_weights'][1]\n",
        "difference"
      ]
    },
    {
      "cell_type": "markdown",
      "metadata": {
        "id": "TXJMPawpKcIO"
      },
      "source": [
        "#### Permutation Test"
      ]
    },
    {
      "cell_type": "markdown",
      "metadata": {
        "id": "VZQPvAtPKcIO"
      },
      "source": [
        "Tests based on random permutations of the data are called permutation tests. Simulate the test statistic – the\n",
        "difference between the averages of the two groups – many times and collect the differences in an array. "
      ]
    },
    {
      "cell_type": "code",
      "execution_count": null,
      "metadata": {
        "id": "rXEHEFbRKcIO"
      },
      "outputs": [],
      "source": [
        "import numpy as np\n",
        "import array\n",
        "differences = np.zeros(5000)"
      ]
    },
    {
      "cell_type": "code",
      "execution_count": null,
      "metadata": {
        "id": "sL4OHwRhKcIO"
      },
      "outputs": [],
      "source": [
        "for i in np.arange(5000):\n",
        "    smoking_and_birthweight = baby[['Maternal Smoker', 'Birth Weight']]\n",
        "    shuffled = smoking_and_birthweight.sample(1174,replace = False)\n",
        "    shuffled_weights = shuffled['Birth Weight']\n",
        "    original_and_shuffled = smoking_and_birthweight.assign(shuffled_weights=shuffled_weights.values )\n",
        "    all_group_means= original_and_shuffled.groupby('Maternal Smoker').mean()\n",
        "    difference = all_group_means['shuffled_weights'][0]- all_group_means['shuffled_weights'][1]\n",
        "    differences[i] = difference"
      ]
    },
    {
      "cell_type": "code",
      "execution_count": null,
      "metadata": {
        "id": "quNP0q-EKcIP",
        "outputId": "134ef958-baf9-41b9-9500-4fd8c54c50ef"
      },
      "outputs": [
        {
          "data": {
            "text/plain": [
              "array([-0.76089096,  0.61992778,  0.37667474, ..., -0.42105215,\n",
              "        0.74155431, -0.60706918])"
            ]
          },
          "execution_count": 135,
          "metadata": {},
          "output_type": "execute_result"
        }
      ],
      "source": [
        "differences"
      ]
    },
    {
      "cell_type": "code",
      "execution_count": null,
      "metadata": {
        "id": "zUhC9R2YKcIP"
      },
      "outputs": [],
      "source": [
        "import matplotlib\n",
        "%matplotlib inline\n",
        "import matplotlib.pyplot as plt\n",
        "plt.style.use('fivethirtyeight')"
      ]
    },
    {
      "cell_type": "code",
      "execution_count": null,
      "metadata": {
        "id": "Lq-tfv4dKcIP",
        "outputId": "0b62380d-41f5-4ac8-87b7-1275bb9fa4e4"
      },
      "outputs": [
        {
          "data": {
            "text/html": [
              "<div>\n",
              "<style scoped>\n",
              "    .dataframe tbody tr th:only-of-type {\n",
              "        vertical-align: middle;\n",
              "    }\n",
              "\n",
              "    .dataframe tbody tr th {\n",
              "        vertical-align: top;\n",
              "    }\n",
              "\n",
              "    .dataframe thead th {\n",
              "        text-align: right;\n",
              "    }\n",
              "</style>\n",
              "<table border=\"1\" class=\"dataframe\">\n",
              "  <thead>\n",
              "    <tr style=\"text-align: right;\">\n",
              "      <th></th>\n",
              "      <th>0</th>\n",
              "    </tr>\n",
              "  </thead>\n",
              "  <tbody>\n",
              "    <tr>\n",
              "      <th>0</th>\n",
              "      <td>-0.760891</td>\n",
              "    </tr>\n",
              "    <tr>\n",
              "      <th>1</th>\n",
              "      <td>0.619928</td>\n",
              "    </tr>\n",
              "    <tr>\n",
              "      <th>2</th>\n",
              "      <td>0.376675</td>\n",
              "    </tr>\n",
              "    <tr>\n",
              "      <th>3</th>\n",
              "      <td>-0.392434</td>\n",
              "    </tr>\n",
              "    <tr>\n",
              "      <th>4</th>\n",
              "      <td>2.086601</td>\n",
              "    </tr>\n",
              "    <tr>\n",
              "      <th>...</th>\n",
              "      <td>...</td>\n",
              "    </tr>\n",
              "    <tr>\n",
              "      <th>4995</th>\n",
              "      <td>0.090495</td>\n",
              "    </tr>\n",
              "    <tr>\n",
              "      <th>4996</th>\n",
              "      <td>-0.052595</td>\n",
              "    </tr>\n",
              "    <tr>\n",
              "      <th>4997</th>\n",
              "      <td>-0.421052</td>\n",
              "    </tr>\n",
              "    <tr>\n",
              "      <th>4998</th>\n",
              "      <td>0.741554</td>\n",
              "    </tr>\n",
              "    <tr>\n",
              "      <th>4999</th>\n",
              "      <td>-0.607069</td>\n",
              "    </tr>\n",
              "  </tbody>\n",
              "</table>\n",
              "<p>5000 rows × 1 columns</p>\n",
              "</div>"
            ],
            "text/plain": [
              "             0\n",
              "0    -0.760891\n",
              "1     0.619928\n",
              "2     0.376675\n",
              "3    -0.392434\n",
              "4     2.086601\n",
              "...        ...\n",
              "4995  0.090495\n",
              "4996 -0.052595\n",
              "4997 -0.421052\n",
              "4998  0.741554\n",
              "4999 -0.607069\n",
              "\n",
              "[5000 rows x 1 columns]"
            ]
          },
          "execution_count": 137,
          "metadata": {},
          "output_type": "execute_result"
        }
      ],
      "source": [
        "differences_df = pd.DataFrame(differences)\n",
        "differences_df"
      ]
    },
    {
      "cell_type": "code",
      "execution_count": null,
      "metadata": {
        "id": "1uEQpaXfKcIP",
        "outputId": "1cc28a77-8444-4b9e-e214-43a4fc2e840e"
      },
      "outputs": [
        {
          "name": "stdout",
          "output_type": "stream",
          "text": [
            "Observed Difference: -9.266142572024918\n"
          ]
        },
        {
          "data": {
            "image/png": "[encoded data removed]",
            "text/plain": [
              "<Figure size 432x288 with 1 Axes>"
            ]
          },
          "metadata": {},
          "output_type": "display_data"
        }
      ],
      "source": [
        "differences_df.hist(bins = np.arange(-5,5,0.5))\n",
        "plt.title('Prediction Under Null Hypotheses');\n",
        "plt.xlabel('Differences between Group Averages',fontsize=15)\n",
        "plt.ylabel('Units',fontsize=15);\n",
        "print('Observed Difference:', observed_difference)"
      ]
    },
    {
      "cell_type": "markdown",
      "metadata": {
        "id": "4svT6cJnKcIP"
      },
      "source": [
        "Notice how the distribution is centered around 0. This makes sense, because under the null hypothesis the two groups should have roughly the same average. Therefore the difference between the group averages should be around 0."
      ]
    },
    {
      "cell_type": "markdown",
      "metadata": {
        "id": "Xd7zScQsKcIP"
      },
      "source": [
        "The observed difference in the original sample is about -9.27 ounces, which doesn't even appear on the horizontal scale of the histogram. The observed value of the statistic and the predicted behavior of the statistic under the null hypothesis are inconsistent."
      ]
    },
    {
      "cell_type": "markdown",
      "metadata": {
        "id": "egJzblOJKcIP"
      },
      "source": [
        "#### The conclusion of the test is that the data support the alternative more than they support the null. The average birth weight of babies born to mothers who smoke is less than the average birth weight of babies born to non-smokers. "
      ]
    },
    {
      "cell_type": "markdown",
      "metadata": {
        "id": "C5C6CtSlKcIQ"
      },
      "source": [
        "If you want to compute an empirical P-value, remember that low values of the statistic favor\n",
        "the alternative hypothesis."
      ]
    },
    {
      "cell_type": "code",
      "execution_count": null,
      "metadata": {
        "id": "3dYxXCadKcIQ",
        "outputId": "40321cc5-869c-4e27-89f4-056ed34a2939"
      },
      "outputs": [
        {
          "data": {
            "text/plain": [
              "0.0"
            ]
          },
          "execution_count": 147,
          "metadata": {},
          "output_type": "execute_result"
        }
      ],
      "source": [
        "np.count_nonzero(differences <= observed_difference)/differences.size"
      ]
    },
    {
      "cell_type": "markdown",
      "metadata": {
        "id": "j05TJ9PsKcIQ"
      },
      "source": [
        "The empirical P-value is 0, meaning that none of the 5,000 observed samples resulted in a difference of -9.27 or lower. This is an approximation; the exact chance of getting a difference in that range is not 0 but it is vanishingly small."
      ]
    },
    {
      "cell_type": "markdown",
      "metadata": {
        "id": "d2d_FcHyKcIQ"
      },
      "source": [
        "#### Assignment - Write a Function to Simulate the Differences Under the Null Hypothesis and test whether there was any difference in the ages of the smoking and non-smoking mothers."
      ]
    }
  ],
  "metadata": {
    "kernelspec": {
      "display_name": "Python 3",
      "language": "python",
      "name": "python3"
    },
    "language_info": {
      "codemirror_mode": {
        "name": "ipython",
        "version": 3
      },
      "file_extension": ".py",
      "mimetype": "text/x-python",
      "name": "python",
      "nbconvert_exporter": "python",
      "pygments_lexer": "ipython3",
      "version": "3.7.6"
    },
    "colab": {
      "provenance": []
    }
  },
  "nbformat": 4,
  "nbformat_minor": 0
}