{
  "nbformat": 4,
  "nbformat_minor": 0,
  "metadata": {
    "colab": {
      "provenance": []
    },
    "kernelspec": {
      "name": "python3",
      "display_name": "Python 3"
    },
    "language_info": {
      "name": "python"
    }
  },
  "cells": [
    {
      "cell_type": "code",
      "execution_count": 1,
      "metadata": {
        "id": "Z6_EksXr4REh"
      },
      "outputs": [],
      "source": [
        "import numpy as np\n",
        "import scipy.stats as st"
      ]
    },
    {
      "cell_type": "markdown",
      "source": [
        "**Part_A**"
      ],
      "metadata": {
        "id": "nDo-weIAKnyD"
      }
    },
    {
      "cell_type": "markdown",
      "source": [
        "1)\n",
        "\n",
        "*   **Null Hypothesis H0**: For every plant, there is a 75% chance that it will have purple flowers, and a 25% chance that the flowers will be white, regardless of the colors in all the other plants.\n",
        "*   **Alternative Hypothesis Ha:** Mendel's model isn't valid.\n",
        "\n"
      ],
      "metadata": {
        "id": "PZzGTwYbNaUl"
      }
    },
    {
      "cell_type": "markdown",
      "source": [
        "Purple=705+28=733\n"
      ],
      "metadata": {
        "id": "3vryDUpKWEKl"
      }
    },
    {
      "cell_type": "code",
      "source": [
        "#H0 : 75% chance that it will have purple flowers. So μ = 696.75(75% of 929),(Null Hypothesis)\n",
        "#Ha : Not exactly 75% chance that it will have purple flowers  μ != 696.75,(Alternative Hypothesis) which means model is not valid\n",
        "#It is a Two tailed graph\n",
        "total_count=929\n",
        "Purple_count=733\n",
        "white_count=196\n",
        "xbar =Purple_count/total_count\n",
        "xbar"
      ],
      "metadata": {
        "id": "K9tSFynSUIO6",
        "outputId": "e1bcab52-24bb-4324-ac5e-a1ab81a5f8bc",
        "colab": {
          "base_uri": "https://localhost:8080/"
        }
      },
      "execution_count": 13,
      "outputs": [
        {
          "output_type": "execute_result",
          "data": {
            "text/plain": [
              "0.7890204520990313"
            ]
          },
          "metadata": {},
          "execution_count": 13
        }
      ]
    },
    {
      "cell_type": "markdown",
      "source": [
        "2)  We can choose Z-test. Here size of sample is high and standard deviation of sample is known."
      ],
      "metadata": {
        "id": "c7zd5M4SXpPD"
      }
    },
    {
      "cell_type": "markdown",
      "source": [
        "3)"
      ],
      "metadata": {
        "id": "X1v700shXlPm"
      }
    },
    {
      "cell_type": "code",
      "source": [
        "n=929\n",
        "\n",
        "mu = 696.75\n",
        "sigma = 1.42\n",
        "#sigma can be calcualated by using fomula sqrt(proportion*(1-proportion)/N)\n",
        "alpha = 0.5\n",
        "observed_st = abs(xbar - 0.75)\n",
        "observed_st"
      ],
      "metadata": {
        "id": "b3pY8aKIVhfO",
        "outputId": "95eb1f30-dff0-4a8d-b80a-5ffd8221ae21",
        "colab": {
          "base_uri": "https://localhost:8080/"
        }
      },
      "execution_count": 14,
      "outputs": [
        {
          "output_type": "execute_result",
          "data": {
            "text/plain": [
              "0.039020452099031266"
            ]
          },
          "metadata": {},
          "execution_count": 14
        }
      ]
    },
    {
      "cell_type": "markdown",
      "source": [
        "4)"
      ],
      "metadata": {
        "id": "VcLs62n1XiZ9"
      }
    },
    {
      "cell_type": "code",
      "source": [
        "import numpy.random as npr\n",
        "\n",
        "stimulations = 1772\n",
        "\n",
        "for i in range(stimulations):\n",
        "    an = npr.binomial(total_count, 0.75, stimulations)\n",
        "    \n",
        "an"
      ],
      "metadata": {
        "id": "vxZ2GvM7XFmi",
        "outputId": "7d44e042-21ba-4929-cf24-81a3bd281819",
        "colab": {
          "base_uri": "https://localhost:8080/"
        }
      },
      "execution_count": 15,
      "outputs": [
        {
          "output_type": "execute_result",
          "data": {
            "text/plain": [
              "array([687, 673, 706, ..., 689, 675, 705])"
            ]
          },
          "metadata": {},
          "execution_count": 15
        }
      ]
    },
    {
      "cell_type": "code",
      "source": [
        "df = pd.DataFrame(an, columns =['Count'])\n",
        "\n",
        "df['sampled']= (df['Count'] / total_count)\n",
        "df = df.set_index('Count')\n",
        "df['how far 0.75'] = abs(df['sampled'] - 0.75)\n",
        "\n",
        "df"
      ],
      "metadata": {
        "id": "X8PVPCHlXOFG",
        "outputId": "7db0fe3d-8a95-4cc3-91d2-5f3f4f8a61bf",
        "colab": {
          "base_uri": "https://localhost:8080/",
          "height": 455
        }
      },
      "execution_count": 16,
      "outputs": [
        {
          "output_type": "execute_result",
          "data": {
            "text/plain": [
              "        sampled  how far 0.75\n",
              "Count                        \n",
              "687    0.739505      0.010495\n",
              "673    0.724435      0.025565\n",
              "706    0.759957      0.009957\n",
              "700    0.753498      0.003498\n",
              "706    0.759957      0.009957\n",
              "...         ...           ...\n",
              "710    0.764263      0.014263\n",
              "693    0.745963      0.004037\n",
              "689    0.741658      0.008342\n",
              "675    0.726588      0.023412\n",
              "705    0.758881      0.008881\n",
              "\n",
              "[1772 rows x 2 columns]"
            ],
            "text/html": [
              "\n",
              "  <div id=\"df-d965cfd1-ad6c-4d6f-8217-07c8ded789a9\">\n",
              "    <div class=\"colab-df-container\">\n",
              "      <div>\n",
              "<style scoped>\n",
              "    .dataframe tbody tr th:only-of-type {\n",
              "        vertical-align: middle;\n",
              "    }\n",
              "\n",
              "    .dataframe tbody tr th {\n",
              "        vertical-align: top;\n",
              "    }\n",
              "\n",
              "    .dataframe thead th {\n",
              "        text-align: right;\n",
              "    }\n",
              "</style>\n",
              "<table border=\"1\" class=\"dataframe\">\n",
              "  <thead>\n",
              "    <tr style=\"text-align: right;\">\n",
              "      <th></th>\n",
              "      <th>sampled</th>\n",
              "      <th>how far 0.75</th>\n",
              "    </tr>\n",
              "    <tr>\n",
              "      <th>Count</th>\n",
              "      <th></th>\n",
              "      <th></th>\n",
              "    </tr>\n",
              "  </thead>\n",
              "  <tbody>\n",
              "    <tr>\n",
              "      <th>687</th>\n",
              "      <td>0.739505</td>\n",
              "      <td>0.010495</td>\n",
              "    </tr>\n",
              "    <tr>\n",
              "      <th>673</th>\n",
              "      <td>0.724435</td>\n",
              "      <td>0.025565</td>\n",
              "    </tr>\n",
              "    <tr>\n",
              "      <th>706</th>\n",
              "      <td>0.759957</td>\n",
              "      <td>0.009957</td>\n",
              "    </tr>\n",
              "    <tr>\n",
              "      <th>700</th>\n",
              "      <td>0.753498</td>\n",
              "      <td>0.003498</td>\n",
              "    </tr>\n",
              "    <tr>\n",
              "      <th>706</th>\n",
              "      <td>0.759957</td>\n",
              "      <td>0.009957</td>\n",
              "    </tr>\n",
              "    <tr>\n",
              "      <th>...</th>\n",
              "      <td>...</td>\n",
              "      <td>...</td>\n",
              "    </tr>\n",
              "    <tr>\n",
              "      <th>710</th>\n",
              "      <td>0.764263</td>\n",
              "      <td>0.014263</td>\n",
              "    </tr>\n",
              "    <tr>\n",
              "      <th>693</th>\n",
              "      <td>0.745963</td>\n",
              "      <td>0.004037</td>\n",
              "    </tr>\n",
              "    <tr>\n",
              "      <th>689</th>\n",
              "      <td>0.741658</td>\n",
              "      <td>0.008342</td>\n",
              "    </tr>\n",
              "    <tr>\n",
              "      <th>675</th>\n",
              "      <td>0.726588</td>\n",
              "      <td>0.023412</td>\n",
              "    </tr>\n",
              "    <tr>\n",
              "      <th>705</th>\n",
              "      <td>0.758881</td>\n",
              "      <td>0.008881</td>\n",
              "    </tr>\n",
              "  </tbody>\n",
              "</table>\n",
              "<p>1772 rows × 2 columns</p>\n",
              "</div>\n",
              "      <button class=\"colab-df-convert\" onclick=\"convertToInteractive('df-d965cfd1-ad6c-4d6f-8217-07c8ded789a9')\"\n",
              "              title=\"Convert this dataframe to an interactive table.\"\n",
              "              style=\"display:none;\">\n",
              "        \n",
              "  <svg xmlns=\"http://www.w3.org/2000/svg\" height=\"24px\"viewBox=\"0 0 24 24\"\n",
              "       width=\"24px\">\n",
              "    <path d=\"M0 0h24v24H0V0z\" fill=\"none\"/>\n",
              "    <path d=\"M18.56 5.44l.94 2.06.94-2.06 2.06-.94-2.06-.94-.94-2.06-.94 2.06-2.06.94zm-11 1L8.5 8.5l.94-2.06 2.06-.94-2.06-.94L8.5 2.5l-.94 2.06-2.06.94zm10 10l.94 2.06.94-2.06 2.06-.94-2.06-.94-.94-2.06-.94 2.06-2.06.94z\"/><path d=\"M17.41 7.96l-1.37-1.37c-.4-.4-.92-.59-1.43-.59-.52 0-1.04.2-1.43.59L10.3 9.45l-7.72 7.72c-.78.78-.78 2.05 0 2.83L4 21.41c.39.39.9.59 1.41.59.51 0 1.02-.2 1.41-.59l7.78-7.78 2.81-2.81c.8-.78.8-2.07 0-2.86zM5.41 20L4 18.59l7.72-7.72 1.47 1.35L5.41 20z\"/>\n",
              "  </svg>\n",
              "      </button>\n",
              "      \n",
              "  <style>\n",
              "    .colab-df-container {\n",
              "      display:flex;\n",
              "      flex-wrap:wrap;\n",
              "      gap: 12px;\n",
              "    }\n",
              "\n",
              "    .colab-df-convert {\n",
              "      background-color: #E8F0FE;\n",
              "      border: none;\n",
              "      border-radius: 50%;\n",
              "      cursor: pointer;\n",
              "      display: none;\n",
              "      fill: #1967D2;\n",
              "      height: 32px;\n",
              "      padding: 0 0 0 0;\n",
              "      width: 32px;\n",
              "    }\n",
              "\n",
              "    .colab-df-convert:hover {\n",
              "      background-color: #E2EBFA;\n",
              "      box-shadow: 0px 1px 2px rgba(60, 64, 67, 0.3), 0px 1px 3px 1px rgba(60, 64, 67, 0.15);\n",
              "      fill: #174EA6;\n",
              "    }\n",
              "\n",
              "    [theme=dark] .colab-df-convert {\n",
              "      background-color: #3B4455;\n",
              "      fill: #D2E3FC;\n",
              "    }\n",
              "\n",
              "    [theme=dark] .colab-df-convert:hover {\n",
              "      background-color: #434B5C;\n",
              "      box-shadow: 0px 1px 3px 1px rgba(0, 0, 0, 0.15);\n",
              "      filter: drop-shadow(0px 1px 2px rgba(0, 0, 0, 0.3));\n",
              "      fill: #FFFFFF;\n",
              "    }\n",
              "  </style>\n",
              "\n",
              "      <script>\n",
              "        const buttonEl =\n",
              "          document.querySelector('#df-d965cfd1-ad6c-4d6f-8217-07c8ded789a9 button.colab-df-convert');\n",
              "        buttonEl.style.display =\n",
              "          google.colab.kernel.accessAllowed ? 'block' : 'none';\n",
              "\n",
              "        async function convertToInteractive(key) {\n",
              "          const element = document.querySelector('#df-d965cfd1-ad6c-4d6f-8217-07c8ded789a9');\n",
              "          const dataTable =\n",
              "            await google.colab.kernel.invokeFunction('convertToInteractive',\n",
              "                                                     [key], {});\n",
              "          if (!dataTable) return;\n",
              "\n",
              "          const docLinkHtml = 'Like what you see? Visit the ' +\n",
              "            '<a target=\"_blank\" href=https://colab.research.google.com/notebooks/data_table.ipynb>data table notebook</a>'\n",
              "            + ' to learn more about interactive tables.';\n",
              "          element.innerHTML = '';\n",
              "          dataTable['output_type'] = 'display_data';\n",
              "          await google.colab.output.renderOutput(dataTable, element);\n",
              "          const docLink = document.createElement('div');\n",
              "          docLink.innerHTML = docLinkHtml;\n",
              "          element.appendChild(docLink);\n",
              "        }\n",
              "      </script>\n",
              "    </div>\n",
              "  </div>\n",
              "  "
            ]
          },
          "metadata": {},
          "execution_count": 16
        }
      ]
    },
    {
      "cell_type": "markdown",
      "source": [
        "5)"
      ],
      "metadata": {
        "id": "ulEVFMezXe4g"
      }
    },
    {
      "cell_type": "code",
      "source": [
        "import matplotlib.pyplot as plt\n",
        "\n",
        "plt.figure()\n",
        "plt.hist(df['how far 0.75'])\n",
        "plt.axvline(x = observed_st, color = 'magenta')\n",
        "plt.title('Empirical distribution')\n",
        "plt.xlabel('Distance from 0.75')\n",
        "plt.ylabel('Percent Per Unit')\n",
        "plt.grid()\n",
        "plt.show()"
      ],
      "metadata": {
        "id": "0HqCCrkIXRxH",
        "outputId": "2f4f4a21-8e1f-4af5-c026-8d91cb3199ba",
        "colab": {
          "base_uri": "https://localhost:8080/",
          "height": 295
        }
      },
      "execution_count": 17,
      "outputs": [
        {
          "output_type": "display_data",
          "data": {
            "text/plain": [
              "<Figure size 432x288 with 1 Axes>"
            ],
            "image/png": "[encoded data removed]"
          },
          "metadata": {
            "needs_background": "light"
          }
        }
      ]
    },
    {
      "cell_type": "markdown",
      "source": [
        "6) Null hypothesis got regected so plurple to white flowers ratio is not equal to 3:1 for purple flowers equal to 733"
      ],
      "metadata": {
        "id": "2tKk_9SWXcsH"
      }
    },
    {
      "cell_type": "markdown",
      "source": [
        "**Part_B**"
      ],
      "metadata": {
        "id": "Y8bzPRCNKutN"
      }
    },
    {
      "cell_type": "markdown",
      "source": [
        "Null Hypothesis H0: μ=60,\n",
        "Alternative Hypothesis Ha: μ!=60"
      ],
      "metadata": {
        "id": "ekYyrlXBLMtB"
      }
    },
    {
      "cell_type": "markdown",
      "source": [
        "It is 2 tailed"
      ],
      "metadata": {
        "id": "1CW_mqnnM940"
      }
    },
    {
      "cell_type": "markdown",
      "source": [
        "Z_Test using P"
      ],
      "metadata": {
        "id": "M64N1bAnNBbd"
      }
    },
    {
      "cell_type": "code",
      "source": [
        "#H0 : μ = 60 and Ha : μ != 60 (2 tailed test)\n",
        "n = 30\n",
        "xbar = 65.10\n",
        "mu = 60\n",
        "sigma = 13.46\n",
        "alpha = 0.05"
      ],
      "metadata": {
        "id": "bVXiEvTALLzx"
      },
      "execution_count": null,
      "outputs": []
    },
    {
      "cell_type": "code",
      "source": [
        "z = (xbar-mu)/(sigma/np.sqrt(n))\n",
        "z"
      ],
      "metadata": {
        "id": "t6Uo_L1ILsbQ",
        "outputId": "ab3781ca-c007-4ef2-f720-33db51dd32ed",
        "colab": {
          "base_uri": "https://localhost:8080/"
        }
      },
      "execution_count": 3,
      "outputs": [
        {
          "output_type": "execute_result",
          "data": {
            "text/plain": [
              "2.075323211943792"
            ]
          },
          "metadata": {},
          "execution_count": 3
        }
      ]
    },
    {
      "cell_type": "code",
      "source": [
        "p_val = (1 - st.norm.cdf(abs(z))) * 2\n",
        "p_val"
      ],
      "metadata": {
        "id": "nKMt0nPLLxVk",
        "outputId": "51639600-3c6b-45f3-ace4-756e7dc82e9c",
        "colab": {
          "base_uri": "https://localhost:8080/"
        }
      },
      "execution_count": 4,
      "outputs": [
        {
          "output_type": "execute_result",
          "data": {
            "text/plain": [
              "0.03795658956990633"
            ]
          },
          "metadata": {},
          "execution_count": 4
        }
      ]
    },
    {
      "cell_type": "code",
      "source": [
        "if (p_val > alpha):\n",
        "    print(\"Null hypothesis cannot be rejected\")\n",
        "else:\n",
        "    print(\"Reject null hypothesis\")"
      ],
      "metadata": {
        "id": "Mqzeac8KL_cC",
        "outputId": "d14d4f1d-7831-4c25-b176-bc51d9eb8507",
        "colab": {
          "base_uri": "https://localhost:8080/"
        }
      },
      "execution_count": 5,
      "outputs": [
        {
          "output_type": "stream",
          "name": "stdout",
          "text": [
            "Reject null hypothesis\n"
          ]
        }
      ]
    }
  ]
}